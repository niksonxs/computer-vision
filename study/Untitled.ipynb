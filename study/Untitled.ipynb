{
 "cells": [
  {
   "cell_type": "code",
   "execution_count": 69,
   "id": "b724c6ef",
   "metadata": {},
   "outputs": [],
   "source": [
    "import torch\n",
    "from torch import nn as nn # for NN\n",
    "from torch.utils.data import Dataset # class to create dataset class\n",
    "from torch import optim # Optimizer\n",
    "from torch.nn import functional as F # activation functions\n",
    "import matplotlib.pyplot as plt # to plot a graph\n",
    "import pandas as pd # py data analysis"
   ]
  },
  {
   "cell_type": "code",
   "execution_count": 70,
   "id": "21a019cc",
   "metadata": {},
   "outputs": [],
   "source": [
    "DEVICE = torch.device('cuda' if torch.cuda.is_available() else 'cpu')"
   ]
  },
  {
   "cell_type": "code",
   "execution_count": 71,
   "id": "ec009211",
   "metadata": {},
   "outputs": [],
   "source": [
    "class DataSet(Dataset):\n",
    "    \n",
    "    def __init__(self,path):\n",
    "        self.dataset = torch.tensor(pd.read_csv(path).values)\n",
    "        \n",
    "    def __len__(self):\n",
    "        return len(self.dataset)\n",
    "    \n",
    "    def __getitem__(self,i):\n",
    "        return self.dataset[i,:-1], self.dataset[i,-1]\n",
    "    "
   ]
  },
  {
   "cell_type": "code",
   "execution_count": 72,
   "id": "20a66477",
   "metadata": {},
   "outputs": [],
   "source": [
    "df=pd.read_csv(r'heart.csv')"
   ]
  },
  {
   "cell_type": "code",
   "execution_count": 94,
   "id": "3106e5ff",
   "metadata": {},
   "outputs": [],
   "source": [
    "class Net(nn.Module):\n",
    "    def __init__(self, n_features):\n",
    "        super().__init__()\n",
    "\n",
    "        self.n_features = n_features # 13\n",
    "\n",
    "        # fully connected\n",
    "        self.fc1 = nn.Linear(self.n_features,16)\n",
    "        self.fc2 = nn.Linear(16, 32)\n",
    "        self.fc3 = nn.Linear(32, 1)\n",
    "\n",
    "    def forward(self, x):\n",
    "        out = F.relu(self.fc1(x))\n",
    "        out = F.relu(self.fc2(out))\n",
    "        out = F.sigmoid(self.fc3(out))\n",
    "\n",
    "        return out"
   ]
  },
  {
   "cell_type": "code",
   "execution_count": 95,
   "id": "b27d9d40",
   "metadata": {},
   "outputs": [],
   "source": [
    "def training_loop(n_epoch,optimizer,model,loss_fn,train_loader,test_loader,print_plot):\n",
    "    \n",
    "    train_accuracy=torch.zeros(n_epoch)\n",
    "    test_accuracy=torch.zeros(n_epoch)\n",
    "    \n",
    "    for epoch in range(n_epoch):\n",
    "        for example,label in train_loader:\n",
    "            example=example.to(DEVICE)\n",
    "            label = label.to(DEVICE)\n",
    "            label=label.unsqueeze(1)\n",
    "            output=model(example.float())\n",
    "            loss=loss_fn(output,label.float())\n",
    "            optimizer.zero_grad()\n",
    "            loss.backward()\n",
    "            optimizer.step()\n",
    "            \n",
    "        with torch.no_grad():\n",
    "\n",
    "            for loader, accuracy in [(train_loader, train_accuracy),(test_loader, test_accuracy)]:\n",
    "                correct = 0\n",
    "                total = 0\n",
    "\n",
    "                for examples, labels in loader:\n",
    "                    examples = examples.to(device=DEVICE)\n",
    "                    labels = labels.to(device=DEVICE).view(-1, 1)\n",
    "\n",
    "                    outputs = model(examples.float())\n",
    "                    predicted = torch.round(outputs)\n",
    "\n",
    "                    total += labels.shape[0]\n",
    "                    correct += (predicted == labels).sum()\n",
    "\n",
    "                accuracy[epoch] = correct / total\n",
    "\n",
    "        if (epoch+1) % 10 ==0:\n",
    "            print(f'Epoch {epoch+1})', \n",
    "                  f'Train Accuracy: {train_accuracy[epoch]}',\n",
    "                  f'Test Accuracy: {test_accuracy[epoch]}')\n",
    "            \n",
    "    if print_plot:\n",
    "        epoch = range(n_epoch)\n",
    "\n",
    "        #Ploting both curves, train and val \n",
    "        plt.plot(epoch, train_accuracy, 'g', label='Training accuracy')\n",
    "        plt.plot(epoch, test_accuracy, 'b', label='Test accuracy')\n",
    "        plt.title('Training and Test loss')\n",
    "        plt.xlabel('Epochs')\n",
    "        plt.ylabel('Accuracy')\n",
    "        plt.legend()\n",
    "        plt.show() \n",
    "        "
   ]
  },
  {
   "cell_type": "code",
   "execution_count": 96,
   "id": "7183f72f",
   "metadata": {},
   "outputs": [],
   "source": [
    "data = DataSet(r'heart.csv')\n",
    "n_sample = len(data)\n",
    "n_test = int(0.2*n_sample)\n",
    "train_set,test_set=torch.utils.data.random_split(data,[n_sample-n_test,n_test])\n",
    "train_loader = torch.utils.data.DataLoader(train_set,batch_size=len(train_set),shuffle=True)\n",
    "test_loader = torch.utils.data.DataLoader(test_set,batch_size=len(test_set),shuffle=True)\n"
   ]
  },
  {
   "cell_type": "code",
   "execution_count": 102,
   "id": "4e59d06d",
   "metadata": {
    "scrolled": false
   },
   "outputs": [
    {
     "name": "stderr",
     "output_type": "stream",
     "text": [
      "C:\\Users\\NICU\\AppData\\Local\\Programs\\Python\\Python39\\lib\\site-packages\\torch\\nn\\functional.py:1805: UserWarning: nn.functional.sigmoid is deprecated. Use torch.sigmoid instead.\n",
      "  warnings.warn(\"nn.functional.sigmoid is deprecated. Use torch.sigmoid instead.\")\n"
     ]
    },
    {
     "name": "stdout",
     "output_type": "stream",
     "text": [
      "Epoch 10) Train Accuracy: 0.6255143880844116 Test Accuracy: 0.4333333373069763\n",
      "Epoch 20) Train Accuracy: 0.6419752836227417 Test Accuracy: 0.4333333373069763\n",
      "Epoch 30) Train Accuracy: 0.6790123581886292 Test Accuracy: 0.46666666865348816\n",
      "Epoch 40) Train Accuracy: 0.6913580298423767 Test Accuracy: 0.6333333253860474\n",
      "Epoch 50) Train Accuracy: 0.7242798209190369 Test Accuracy: 0.7166666388511658\n",
      "Epoch 60) Train Accuracy: 0.7242798209190369 Test Accuracy: 0.7166666388511658\n",
      "Epoch 70) Train Accuracy: 0.7530864477157593 Test Accuracy: 0.7333333492279053\n",
      "Epoch 80) Train Accuracy: 0.748971164226532 Test Accuracy: 0.7333333492279053\n",
      "Epoch 90) Train Accuracy: 0.7613168954849243 Test Accuracy: 0.7333333492279053\n",
      "Epoch 100) Train Accuracy: 0.7736625671386719 Test Accuracy: 0.75\n",
      "Epoch 110) Train Accuracy: 0.806584358215332 Test Accuracy: 0.7666666507720947\n",
      "Epoch 120) Train Accuracy: 0.8148148059844971 Test Accuracy: 0.7833333611488342\n",
      "Epoch 130) Train Accuracy: 0.8148148059844971 Test Accuracy: 0.800000011920929\n",
      "Epoch 140) Train Accuracy: 0.855967104434967 Test Accuracy: 0.800000011920929\n",
      "Epoch 150) Train Accuracy: 0.8600823283195496 Test Accuracy: 0.800000011920929\n",
      "Epoch 160) Train Accuracy: 0.8477365970611572 Test Accuracy: 0.800000011920929\n",
      "Epoch 170) Train Accuracy: 0.8683127760887146 Test Accuracy: 0.8333333134651184\n",
      "Epoch 180) Train Accuracy: 0.8477365970611572 Test Accuracy: 0.800000011920929\n",
      "Epoch 190) Train Accuracy: 0.8683127760887146 Test Accuracy: 0.8333333134651184\n",
      "Epoch 200) Train Accuracy: 0.855967104434967 Test Accuracy: 0.8166666626930237\n",
      "Epoch 210) Train Accuracy: 0.8600823283195496 Test Accuracy: 0.8333333134651184\n",
      "Epoch 220) Train Accuracy: 0.8600823283195496 Test Accuracy: 0.8166666626930237\n",
      "Epoch 230) Train Accuracy: 0.855967104434967 Test Accuracy: 0.8333333134651184\n",
      "Epoch 240) Train Accuracy: 0.855967104434967 Test Accuracy: 0.8333333134651184\n",
      "Epoch 250) Train Accuracy: 0.855967104434967 Test Accuracy: 0.8166666626930237\n",
      "Epoch 260) Train Accuracy: 0.855967104434967 Test Accuracy: 0.8166666626930237\n",
      "Epoch 270) Train Accuracy: 0.855967104434967 Test Accuracy: 0.8166666626930237\n",
      "Epoch 280) Train Accuracy: 0.855967104434967 Test Accuracy: 0.8333333134651184\n",
      "Epoch 290) Train Accuracy: 0.855967104434967 Test Accuracy: 0.8166666626930237\n",
      "Epoch 300) Train Accuracy: 0.8600823283195496 Test Accuracy: 0.8333333134651184\n",
      "Epoch 310) Train Accuracy: 0.855967104434967 Test Accuracy: 0.8166666626930237\n",
      "Epoch 320) Train Accuracy: 0.855967104434967 Test Accuracy: 0.8166666626930237\n",
      "Epoch 330) Train Accuracy: 0.8600823283195496 Test Accuracy: 0.8166666626930237\n",
      "Epoch 340) Train Accuracy: 0.855967104434967 Test Accuracy: 0.8166666626930237\n",
      "Epoch 350) Train Accuracy: 0.8641975522041321 Test Accuracy: 0.8333333134651184\n",
      "Epoch 360) Train Accuracy: 0.8600823283195496 Test Accuracy: 0.8166666626930237\n",
      "Epoch 370) Train Accuracy: 0.855967104434967 Test Accuracy: 0.8333333134651184\n",
      "Epoch 380) Train Accuracy: 0.8518518805503845 Test Accuracy: 0.7666666507720947\n",
      "Epoch 390) Train Accuracy: 0.855967104434967 Test Accuracy: 0.8166666626930237\n",
      "Epoch 400) Train Accuracy: 0.8518518805503845 Test Accuracy: 0.8333333134651184\n"
     ]
    },
    {
     "data": {
      "image/png": "[encoded data removed]",
      "text/plain": [
       "<Figure size 432x288 with 1 Axes>"
      ]
     },
     "metadata": {
      "needs_background": "light"
     },
     "output_type": "display_data"
    }
   ],
   "source": [
    "learning_rate=0.01\n",
    "\n",
    "model=Net(len(data[0][0])).to(DEVICE)\n",
    "\n",
    "optimizer = optim.Adam(model.parameters(),lr=learning_rate)\n",
    "\n",
    "loss_fn=nn.BCELoss()\n",
    "\n",
    "training_loop(\n",
    "n_epoch=400,\n",
    "optimizer=optimizer,\n",
    "model=model,\n",
    "loss_fn=loss_fn,\n",
    "train_loader=train_loader,\n",
    "test_loader=test_loader,\n",
    "print_plot=True)\n"
   ]
  },
  {
   "cell_type": "code",
   "execution_count": null,
   "id": "6a65367b",
   "metadata": {},
   "outputs": [],
   "source": []
  }
 ],
 "metadata": {
  "kernelspec": {
   "display_name": "Python 3 (ipykernel)",
   "language": "python",
   "name": "python3"
  },
  "language_info": {
   "codemirror_mode": {
    "name": "ipython",
    "version": 3
   },
   "file_extension": ".py",
   "mimetype": "text/x-python",
   "name": "python",
   "nbconvert_exporter": "python",
   "pygments_lexer": "ipython3",
   "version": "3.9.7"
  }
 },
 "nbformat": 4,
 "nbformat_minor": 5
}
