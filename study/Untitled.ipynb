{
 "cells": [
  {
   "cell_type": "code",
   "execution_count": 1,
   "id": "ddfaa424",
   "metadata": {},
   "outputs": [],
   "source": [
    "#Important imports\n",
    "import torch\n",
    "from torch import nn as nn\n",
    "from torch.utils.data import DataLoader\n",
    "from torch import optim \n",
    "import matplotlib.pyplot as plt\n",
    "from torch.nn import functional as F\n",
    "from torchvision.datasets import ImageFolder\n",
    "from torchvision import transforms,models\n",
    "import matplotlib.pyplot as plt\n",
    "\n",
    "#Choosing devide to be gpu if have one, else cpu\n",
    "DEVICE = torch.device('cuda' if torch.cuda.is_available else 'cpu')  "
   ]
  },
  {
   "cell_type": "code",
   "execution_count": null,
   "id": "b39f4661",
   "metadata": {},
   "outputs": [],
   "source": []
  }
 ],
 "metadata": {
  "kernelspec": {
   "display_name": "Python 3 (ipykernel)",
   "language": "python",
   "name": "python3"
  },
  "language_info": {
   "codemirror_mode": {
    "name": "ipython",
    "version": 3
   },
   "file_extension": ".py",
   "mimetype": "text/x-python",
   "name": "python",
   "nbconvert_exporter": "python",
   "pygments_lexer": "ipython3",
   "version": "3.9.7"
  }
 },
 "nbformat": 4,
 "nbformat_minor": 5
}
