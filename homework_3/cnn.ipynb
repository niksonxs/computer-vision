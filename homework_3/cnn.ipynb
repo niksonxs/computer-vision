{
  "nbformat": 4,
  "nbformat_minor": 0,
  "metadata": {
    "colab": {
      "name": "Untitled0.ipynb",
      "provenance": []
    },
    "kernelspec": {
      "name": "python3",
      "display_name": "Python 3"
    },
    "language_info": {
      "name": "python"
    },
    "accelerator": "GPU"
  },
  "cells": [
    {
      "cell_type": "code",
      "metadata": {
        "id": "CpNZ81-S6qNV"
      },
      "source": [
        "import torch\n",
        "from torch import nn as nn\n",
        "from torch.utils.data import DataLoader\n",
        "from torch import optim \n",
        "import matplotlib.pyplot as plt\n",
        "from torch.nn import functional as F\n",
        "from torchvision.datasets import ImageFolder\n",
        "from torchvision import transforms,models\n",
        "import matplotlib.pyplot as plt\n",
        "import numpy as np\n",
        "\n"
      ],
      "execution_count": null,
      "outputs": []
    },
    {
      "cell_type": "code",
      "metadata": {
        "id": "TuOhFbrcC-OY"
      },
      "source": [
        "DEVICE = torch.device('cuda')\n"
      ],
      "execution_count": null,
      "outputs": []
    },
    {
      "cell_type": "code",
      "metadata": {
        "colab": {
          "base_uri": "https://localhost:8080/"
        },
        "id": "naaLMMZbvUYf",
        "outputId": "00643b4d-2ea4-46b8-e189-8c3c0ee6c6b6"
      },
      "source": [
        "from google.colab import drive\n",
        "drive.mount('/content/drive')"
      ],
      "execution_count": null,
      "outputs": [
        {
          "output_type": "stream",
          "name": "stdout",
          "text": [
            "Drive already mounted at /content/drive; to attempt to forcibly remount, call drive.mount(\"/content/drive\", force_remount=True).\n"
          ]
        }
      ]
    },
    {
      "cell_type": "code",
      "metadata": {
        "id": "JW-WHzid65lK"
      },
      "source": [
        "transformations = transforms.Compose([\n",
        "    transforms.Resize((224,224)),\n",
        "    transforms.ToTensor(),\n",
        "    transforms.Normalize(\n",
        "        mean=[0.485, 0.456, 0.406],\n",
        "        std=[0.229, 0.224, 0.225]\n",
        "    )\n",
        "])"
      ],
      "execution_count": null,
      "outputs": []
    },
    {
      "cell_type": "code",
      "metadata": {
        "id": "j19DJgix64na"
      },
      "source": [
        "!unrar x \"/content/drive/MyDrive/Colab Notebooks/data.rar\""
      ],
      "execution_count": null,
      "outputs": []
    },
    {
      "cell_type": "code",
      "metadata": {
        "id": "NBdDUHKdzZ62"
      },
      "source": [
        "train_data = ImageFolder(r'/content/data/train', transform = transformations)\n",
        "test_data = ImageFolder(r'/content/data/test', transform = transformations)\n"
      ],
      "execution_count": null,
      "outputs": []
    },
    {
      "cell_type": "code",
      "metadata": {
        "id": "bUjg9vehzb7G"
      },
      "source": [
        "class Net(nn.Module):\n",
        "    \n",
        "    def __init__(self):\n",
        "        super().__init__()\n",
        "        \n",
        "        # (224,224)\n",
        "        \n",
        "        self.conv1 = nn.Conv2d(3, 32, kernel_size = 3, padding=1)\n",
        "        \n",
        "        self.pool1 = nn.MaxPool2d(2)\n",
        "        \n",
        "        # (112,112)\n",
        "        \n",
        "        self.conv2 = nn.Conv2d(32, 64, kernel_size = 3, padding = 1)\n",
        "        \n",
        "        self.pool2 = nn.MaxPool2d(2)\n",
        "        \n",
        "        # (56,56)\n",
        "        \n",
        "        self.conv3 = nn.Conv2d(64, 128, kernel_size = 3, padding = 1)\n",
        "        \n",
        "        self.pool3 = nn.MaxPool2d(2)\n",
        "        # (28,28)\n",
        "        \n",
        "        self.flatten = nn.Flatten()\n",
        "        \n",
        "        self.fc1 = nn.Linear(128*28*28,256)\n",
        "        self.fc2 = nn.Linear(256, 128)\n",
        "        self.fc3 = nn.Linear(128,1)\n",
        "    \n",
        "    def forward(self, x):\n",
        "        out = self.pool1(F.relu(self.conv1(x)))\n",
        "        out = self.pool2(F.relu(self.conv2(out)))\n",
        "        out = self.pool3(F.relu(self.conv3(out)))\n",
        "        \n",
        "        out = self.flatten(out)\n",
        "        \n",
        "        out = F.relu(self.fc1(out))\n",
        "        out = F.relu(self.fc2(out))\n",
        "        out = torch.sigmoid(self.fc3(out))\n",
        "        \n",
        "        return out"
      ],
      "execution_count": null,
      "outputs": []
    },
    {
      "cell_type": "code",
      "metadata": {
        "id": "cfF6hC642VbL"
      },
      "source": [
        "# Training loop for our network\n",
        "def training_loop(n_epochs, optimizer, model, loss_fn, train_loader, test_loader, print_plot=True):\n",
        "    max_acc=0\n",
        "    max_epoch=0\n",
        "    #Initializing two lists to save accuracy to plot them later\n",
        "    train_accuracy = torch.zeros(n_epochs)\n",
        "    test_accuracy = torch.zeros(n_epochs)\n",
        "\n",
        "    #Going thru every epoch\n",
        "    for epoch in range(n_epochs):\n",
        "\n",
        "        #Going thru example, thru every batch, in our case, thru all data at once\n",
        "        for example, labels in train_loader:     \n",
        "\n",
        "            #Translating calculations to gpu if is available\n",
        "            example = example.to(DEVICE)\n",
        "            labels = labels.to(DEVICE)\n",
        "\n",
        "            # ensuring equal number of dimensions for labels and examples\n",
        "            labels  = labels.unsqueeze(1)\n",
        "\n",
        "            # running our data thru our data - forward\n",
        "            output = model(example.float())\n",
        "            # Getting loss of our network right now\n",
        "            loss = loss_fn(output, labels.float())\n",
        "\n",
        "            # Zeroing the gradient to not stack it from other iterations\n",
        "            optimizer.zero_grad()\n",
        "            #Runing backward part of the neural network, getting gradiets\n",
        "            loss.backward()\n",
        "            #Updating our paramters\n",
        "            optimizer.step()\n",
        "            \n",
        "            \n",
        "        with torch.no_grad():\n",
        "            \n",
        "            for loader, accuracy in [(train_loader, train_accuracy),(test_loader, test_accuracy)]:\n",
        "                correct = 0\n",
        "                total = 0\n",
        "\n",
        "                for examples, labels in loader:\n",
        "                    examples = examples.to(device=DEVICE)\n",
        "                    labels = labels.to(device=DEVICE).view(-1, 1)\n",
        "\n",
        "                    outputs = model(examples.float())\n",
        "                    predicted = torch.round(outputs)\n",
        "\n",
        "                    total += labels.shape[0]\n",
        "                    correct += (predicted == labels).sum()\n",
        "\n",
        "                accuracy[epoch] = correct / total\n",
        "                \n",
        "                  \n",
        "        print(f'Epoch {epoch+1})', \n",
        "              f'Train Accuracy: {train_accuracy[epoch]}',\n",
        "              f'Test Accuracy: {test_accuracy[epoch]}')\n",
        "\n",
        "    #If set to True, print graph of train and validation loss\n",
        "    if print_plot:\n",
        "\n",
        "        #Setting x-ticks\n",
        "        epochs = range(n_epochs)\n",
        "\n",
        "        #Ploting both curves, train and val \n",
        "        plt.plot(epochs, train_accuracy, 'g', label='Training accuracy')\n",
        "        plt.plot(epochs, test_accuracy, 'b', label='Test accuracy')\n",
        "        plt.title('Training and Test loss')\n",
        "        plt.xlabel('Epochs')\n",
        "        plt.ylabel('Loss')\n",
        "        max_acc=torch.amax(test_accuracy)\n",
        "        max_epoch=torch.argmax(test_accuracy)\n",
        "        plt.plot(max_epoch,max_acc,'ro')\n",
        "        plt.legend()\n",
        "        plt.show()\n",
        "        print(f'max test accuracy = {max_acc} in epoch = {max_epoch}')"
      ],
      "execution_count": null,
      "outputs": []
    },
    {
      "cell_type": "code",
      "metadata": {
        "id": "Q4_6vCq52ZGq"
      },
      "source": [
        "train_loader = DataLoader(train_data, batch_size = 32, shuffle =True)\n",
        "test_loader = DataLoader(test_data, batch_size = 32, shuffle =True)\n"
      ],
      "execution_count": null,
      "outputs": []
    },
    {
      "cell_type": "code",
      "metadata": {
        "id": "VERnMkd83w4i",
        "colab": {
          "base_uri": "https://localhost:8080/",
          "height": 536
        },
        "outputId": "0a7056cb-385e-4528-f0c0-42886cc860ad"
      },
      "source": [
        "learning_rate = 1e-3 # 0.001\n",
        "\n",
        "model = Net().to(DEVICE)\n",
        "\n",
        "optimizer = optim.Adam(model.parameters(),lr = learning_rate)\n",
        "loss_fn = nn.BCELoss()\n",
        "\n",
        "training_loop(\n",
        "    n_epochs = 10,\n",
        "    optimizer = optimizer,\n",
        "    model = model,\n",
        "    loss_fn = loss_fn,\n",
        "    print_plot = True,\n",
        "    train_loader = train_loader,\n",
        "    test_loader = test_loader\n",
        ")\n"
      ],
      "execution_count": null,
      "outputs": [
        {
          "output_type": "stream",
          "name": "stderr",
          "text": [
            "/usr/local/lib/python3.7/dist-packages/torch/nn/functional.py:718: UserWarning: Named tensors and all their associated APIs are an experimental feature and subject to change. Please do not use them for anything important until they are released as stable. (Triggered internally at  /pytorch/c10/core/TensorImpl.h:1156.)\n",
            "  return torch.max_pool2d(input, kernel_size, stride, padding, dilation, ceil_mode)\n"
          ]
        },
        {
          "output_type": "stream",
          "name": "stdout",
          "text": [
            "Epoch 1) Train Accuracy: 0.8115282654762268 Test Accuracy: 0.8015151023864746\n",
            "Epoch 2) Train Accuracy: 0.8206294775009155 Test Accuracy: 0.803030252456665\n",
            "Epoch 3) Train Accuracy: 0.8771330714225769 Test Accuracy: 0.8378787636756897\n",
            "Epoch 4) Train Accuracy: 0.8623435497283936 Test Accuracy: 0.8166666626930237\n",
            "Epoch 5) Train Accuracy: 0.9245354533195496 Test Accuracy: 0.853030264377594\n",
            "Epoch 6) Train Accuracy: 0.939704179763794 Test Accuracy: 0.8333333134651184\n",
            "Epoch 7) Train Accuracy: 0.9632157683372498 Test Accuracy: 0.8439393639564514\n",
            "Epoch 8) Train Accuracy: 0.981418251991272 Test Accuracy: 0.8454545140266418\n",
            "Epoch 9) Train Accuracy: 0.9905195236206055 Test Accuracy: 0.8287878632545471\n",
            "Epoch 10) Train Accuracy: 0.9897611141204834 Test Accuracy: 0.8348484635353088\n"
          ]
        },
        {
          "output_type": "display_data",
          "data": {
            "image/png": "[encoded data removed]",
            "text/plain": [
              "<Figure size 432x288 with 1 Axes>"
            ]
          },
          "metadata": {
            "needs_background": "light"
          }
        },
        {
          "output_type": "stream",
          "name": "stdout",
          "text": [
            "max test accuracy = 0.853030264377594 in epoch = 4\n"
          ]
        }
      ]
    },
    {
      "cell_type": "code",
      "metadata": {
        "id": "AgwiGgSp-_pE"
      },
      "source": [
        ""
      ],
      "execution_count": null,
      "outputs": []
    },
    {
      "cell_type": "code",
      "metadata": {
        "id": "ioEhzyOz9QgR"
      },
      "source": [
        ""
      ],
      "execution_count": null,
      "outputs": []
    }
  ]
}